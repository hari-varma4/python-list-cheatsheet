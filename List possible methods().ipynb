{
 "cells": [
  {
   "cell_type": "markdown",
   "id": "af7d5da8",
   "metadata": {},
   "source": [
    "# LIST METHODS"
   ]
  },
  {
   "cell_type": "markdown",
   "id": "6fe03006",
   "metadata": {},
   "source": [
    "# append()"
   ]
  },
  {
   "cell_type": "code",
   "execution_count": 2,
   "id": "25a884cc",
   "metadata": {},
   "outputs": [
    {
     "name": "stdout",
     "output_type": "stream",
     "text": [
      "[1, 2, 3, 4]\n",
      "---------\n"
     ]
    }
   ],
   "source": [
    "list1=[1,2,3]\n",
    "list1.append(4)\n",
    "print(list1)\n",
    "print(\"---------\")"
   ]
  },
  {
   "cell_type": "markdown",
   "id": "5c013ec8",
   "metadata": {},
   "source": [
    "# extend()"
   ]
  },
  {
   "cell_type": "code",
   "execution_count": 4,
   "id": "1572f3b1",
   "metadata": {},
   "outputs": [
    {
     "name": "stdout",
     "output_type": "stream",
     "text": [
      "LIST EXTEND\n",
      "[1, 2, 3, 4, 5, 6]\n"
     ]
    }
   ],
   "source": [
    "print(\"LIST EXTEND\")\n",
    "list2=[1,2,3]\n",
    "list3=[4,5,6]\n",
    "list2.extend(list3)\n",
    "#list2.append(list3)\n",
    "print(list2)"
   ]
  },
  {
   "cell_type": "markdown",
   "id": "2f2ec744",
   "metadata": {},
   "source": [
    "# Difference between append() and extend()"
   ]
  },
  {
   "cell_type": "code",
   "execution_count": 5,
   "id": "3ca65d3c",
   "metadata": {},
   "outputs": [
    {
     "name": "stdout",
     "output_type": "stream",
     "text": [
      "DIFFERENCE B/W append AND extend\n",
      "[1, 2, 3, 4, 5, 6, [4, 5, 6]]\n",
      "---------------------------------\n"
     ]
    }
   ],
   "source": [
    "print('DIFFERENCE B/W append AND extend')\n",
    "list2.append(list3)\n",
    "print(list2)#it gives list in list\n",
    "print(\"---------------------------------\")"
   ]
  },
  {
   "cell_type": "markdown",
   "id": "12494f83",
   "metadata": {},
   "source": [
    "# insert()"
   ]
  },
  {
   "cell_type": "code",
   "execution_count": 6,
   "id": "3cca9fba",
   "metadata": {},
   "outputs": [
    {
     "name": "stdout",
     "output_type": "stream",
     "text": [
      "list insert used to add particular index\n",
      "[1, 2, 3, 4]\n",
      "----------------\n"
     ]
    }
   ],
   "source": [
    "print(\"list insert used to add particular index\")\n",
    "listin=[1,3,4]\n",
    "listin.insert(1,2)#(index,value)\n",
    "print(listin)\n",
    "print(\"----------------\")"
   ]
  },
  {
   "cell_type": "markdown",
   "id": "2668aa7f",
   "metadata": {},
   "source": [
    "# pop()"
   ]
  },
  {
   "cell_type": "code",
   "execution_count": 7,
   "id": "1521a784",
   "metadata": {},
   "outputs": [
    {
     "name": "stdout",
     "output_type": "stream",
     "text": [
      "LIST POP ,used to remove last element\n",
      "[1, 2]\n",
      "But we can aslo remove particular by index\n",
      "[1, 3]\n",
      "----------------\n"
     ]
    }
   ],
   "source": [
    "print(\"LIST POP ,used to remove last element\")\n",
    "listpop=[1,2,3]\n",
    "listpop.pop()\n",
    "print(listpop)\n",
    "print(\"But we can aslo remove particular by index\")\n",
    "listpop=[1,2,3]\n",
    "listpop.pop(1)#index 1\n",
    "print(listpop)# as 2 is in index 1 2 is removed\n",
    "print(\"----------------\")"
   ]
  },
  {
   "cell_type": "markdown",
   "id": "c6e7e710",
   "metadata": {},
   "source": [
    "# clear()"
   ]
  },
  {
   "cell_type": "code",
   "execution_count": 8,
   "id": "e399ddb9",
   "metadata": {},
   "outputs": [
    {
     "name": "stdout",
     "output_type": "stream",
     "text": [
      "LIST CLEAR METHOD used to remove entire list and give empty list\n",
      "[]\n",
      "-----------------\n"
     ]
    }
   ],
   "source": [
    "print(\"LIST CLEAR METHOD used to remove entire list and give empty list\")\n",
    "listcl=[1,2,3,4]\n",
    "listcl.clear()\n",
    "print(listcl)\n",
    "print(\"-----------------\")"
   ]
  },
  {
   "cell_type": "markdown",
   "id": "903f17b2",
   "metadata": {},
   "source": [
    "# count()"
   ]
  },
  {
   "cell_type": "code",
   "execution_count": 9,
   "id": "2c9f7087",
   "metadata": {},
   "outputs": [
    {
     "name": "stdout",
     "output_type": "stream",
     "text": [
      "count() used to tell the occurence of particular element\n",
      "2\n",
      "---------------------------------\n"
     ]
    }
   ],
   "source": [
    "print(\"count() used to tell the occurence of particular element\")\n",
    "listc=[1,2,3,4,2,3,5]\n",
    "count=listc.count(3)\n",
    "print(count)\n",
    "print(\"---------------------------------\")"
   ]
  },
  {
   "cell_type": "markdown",
   "id": "7c43d34c",
   "metadata": {},
   "source": [
    "# index()"
   ]
  },
  {
   "cell_type": "code",
   "execution_count": 10,
   "id": "4e04c9e5",
   "metadata": {},
   "outputs": [
    {
     "name": "stdout",
     "output_type": "stream",
     "text": [
      "INDEX METHOD give the index of element of first occurence\n",
      "3\n",
      "---------------------------------\n"
     ]
    }
   ],
   "source": [
    "print(\"INDEX METHOD give the index of element of first occurence\")\n",
    "listi=[1,2,4,3,5,3,6]\n",
    "index=listi.index(3)\n",
    "print(index)# it gives index of 3 at first occurence\n",
    "print(\"---------------------------------\")"
   ]
  },
  {
   "cell_type": "markdown",
   "id": "ea7ecd3a",
   "metadata": {},
   "source": [
    "# sort() and sorted() difference"
   ]
  },
  {
   "cell_type": "code",
   "execution_count": 11,
   "id": "ba32efd2",
   "metadata": {},
   "outputs": [
    {
     "name": "stdout",
     "output_type": "stream",
     "text": [
      "list sort\n",
      "[1, 2, 3, 4, 5, 6]\n",
      "difference b/w sort and sorted\n",
      "[2, 1, 6, 3, 5, 4]\n",
      "[1, 2, 3, 4, 5, 6]\n",
      "---------------------------------\n",
      " sort()-modifies list\n",
      " sorted - creates new list\n"
     ]
    }
   ],
   "source": [
    "print(\"list sort\")\n",
    "lists=[2,1,6,3,5,4]\n",
    "lists.sort()\n",
    "print(lists)\n",
    "print(\"difference b/w sort and sorted\")\n",
    "lists=[2,1,6,3,5,4]\n",
    "sorted(lists)#sorted built in function\n",
    "print(lists)# it gives same orginal list\n",
    "lists=[2,1,6,3,5,4]\n",
    "b=sorted(lists)\n",
    "print(b)# creates new list \n",
    "print(\"---------------------------------\")\n",
    "print(\" sort()-modifies list\")\n",
    "print(\" sorted - creates new list\")"
   ]
  },
  {
   "cell_type": "code",
   "execution_count": null,
   "id": "a88eb7fc",
   "metadata": {},
   "outputs": [],
   "source": []
  }
 ],
 "metadata": {
  "kernelspec": {
   "display_name": "Python 3",
   "language": "python",
   "name": "python3"
  },
  "language_info": {
   "codemirror_mode": {
    "name": "ipython",
    "version": 3
   },
   "file_extension": ".py",
   "mimetype": "text/x-python",
   "name": "python",
   "nbconvert_exporter": "python",
   "pygments_lexer": "ipython3",
   "version": "3.8.8"
  }
 },
 "nbformat": 4,
 "nbformat_minor": 5
}
